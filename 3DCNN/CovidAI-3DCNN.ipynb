{
 "cells": [
  {
   "cell_type": "code",
   "execution_count": null,
   "metadata": {},
   "outputs": [],
   "source": [
    "sudo apt-get install trash-cli\n",
    "trash-empty\n",
    "cd /mnt/tempvol/home/ubuntu/Desktop/Ctdata"
   ]
  },
  {
   "cell_type": "code",
   "execution_count": 2,
   "metadata": {},
   "outputs": [],
   "source": [
    "import numpy as np\n",
    "import pandas as pd\n",
    "import os\n",
    "import cv2\n",
    "import math\n",
    "import matplotlib.pyplot as plt\n",
    "#config = tf.ConfigProto()\n",
    "#config.gpu_options.allow_growth = True\n",
    "#sess = tf.Session(config=config)\n",
    "import pydicom\n",
    "import re\n",
    "from skimage.segmentation import clear_border\n",
    "from skimage.measure import label,regionprops, perimeter\n",
    "from skimage.morphology import ball, disk, dilation, binary_erosion, remove_small_objects, erosion, closing, reconstruction, binary_closing\n",
    "from skimage.filters import roberts, sobel\n",
    "from skimage import measure, feature\n",
    "from skimage.segmentation import clear_border\n",
    "from skimage import data\n",
    "from scipy import ndimage as ndi"
   ]
  },
  {
   "cell_type": "code",
   "execution_count": null,
   "metadata": {},
   "outputs": [],
   "source": [
    "def get_pixels_hu(slices):\n",
    "    image = np.stack([s.pixel_array for s in slices])\n",
    "    # Convert to int16 (from sometimes int16), \n",
    "    # should be possible as values should always be low enough (<32k)\n",
    "    image = image.astype(np.int16)\n",
    "\n",
    "    # Set outside-of-scan pixels to 0\n",
    "    # The intercept is usually -1024, so air is approximately 0\n",
    "    image[image == -2000] = 0\n",
    "    \n",
    "    # Convert to Hounsfield units (HU)\n",
    "    for slice_number in range(len(slices)):\n",
    "        \n",
    "        intercept = slices[slice_number].RescaleIntercept\n",
    "        slope = slices[slice_number].RescaleSlope\n",
    "        \n",
    "        if slope != 1:\n",
    "            image[slice_number] = slope * image[slice_number].astype(np.float64)\n",
    "            image[slice_number] = image[slice_number].astype(np.int16)\n",
    "            \n",
    "        image[slice_number] += np.int16(intercept)\n",
    "    \n",
    "    return np.array(image, dtype=np.int16)\n",
    "\n",
    "\n",
    "def chunks(l, n):\n",
    "    count = 0\n",
    "    for i in range(0, len(l), n):\n",
    "        if (count < NoSlices):\n",
    "            yield l[i:i + n]\n",
    "            count = count + 1\n",
    "\n",
    "\n",
    "def mean(l):\n",
    "    return sum(l) / len(l)\n",
    "def normalize2(image):\n",
    "    mean = image.mean()\n",
    "    if mean >0:\n",
    "        MIN_BOUND = 0\n",
    "        MAX_BOUND = 1024\n",
    "    else:\n",
    "        MIN_BOUND = -1024\n",
    "        MAX_BOUND = 0\n",
    "        \n",
    "    image[image == -2000] = 0\n",
    "    image = (image - MIN_BOUND) / (MAX_BOUND - MIN_BOUND)\n",
    "    \n",
    "    image[image>1] = 1.\n",
    "    image[image<0] = 0.\n",
    "    return image\n",
    "def get_segmented_lungs(im, plot=False):\n",
    "\n",
    "    binary = im < -400\n",
    "\n",
    "    cleared = clear_border(binary)\n",
    "\n",
    "    label_image = label(cleared)\n",
    "\n",
    "    areas = [r.area for r in regionprops(label_image)]\n",
    "    areas.sort()\n",
    "    if len(areas) > 2:\n",
    "        for region in regionprops(label_image):\n",
    "            if region.area < areas[-2]:\n",
    "                for coordinates in region.coords:                \n",
    "                       label_image[coordinates[0], coordinates[1]] = 0\n",
    "    binary = label_image > 0\n",
    "\n",
    "    edges = roberts(binary)\n",
    "    binary = ndi.binary_fill_holes(edges)\n",
    "\n",
    "    get_high_vals = binary == 0\n",
    "    im[get_high_vals] = 0\n",
    "\n",
    "        \n",
    "    return im"
   ]
  },
  {
   "cell_type": "code",
   "execution_count": null,
   "metadata": {},
   "outputs": [],
   "source": [
    "eben0=os.listdir(r\"/mnt/tempvol/home/ubuntu/Desktop/Ctdata/0/\")\n",
    "eben1=os.listdir(r\"/mnt/tempvol/home/ubuntu/Desktop/Ctdata/1/\")\n",
    "eben2=os.listdir(r\"/mnt/tempvol/home/ubuntu/Desktop/Ctdata/2/\")\n",
    "eben3=os.listdir(r\"/mnt/tempvol/home/ubuntu/Desktop/Ctdata/3/\")"
   ]
  },
  {
   "cell_type": "code",
   "execution_count": null,
   "metadata": {},
   "outputs": [],
   "source": [
    "ct0=[]\n",
    "ct1=[]\n",
    "ct2=[]\n",
    "ct3=[]"
   ]
  },
  {
   "cell_type": "code",
   "execution_count": null,
   "metadata": {},
   "outputs": [],
   "source": [
    "def unlabeledProcessing(patient, size,noslices):\n",
    "        path = dataDirectory + patient + \"/stu01\" + \"/ser01\"\n",
    "        if 'stu02' in os.listdir(dataDirectory + patient):\n",
    "            path=dataDirectory + patient + \"/stu02\" + \"/ser01\"\n",
    "        data4 = os.listdir(path)\n",
    "        data4.sort()\n",
    "        data5 = data4\n",
    "        minv=round(len(data5)/4)\n",
    "        maxv=round(len(data5)/1.7)\n",
    "        if len(data5)<113:\n",
    "            maxv=round(len(data5)/1.29)\n",
    "        if len(data5)<50:\n",
    "            minv=0\n",
    "            maxv=round(len(data5)/1)\n",
    "        data5=data5[minv:maxv]\n",
    "        slices = [pydicom.read_file(path + '/' + s) for s in data5]\n",
    "        #slices.sort(key=lambda x: int(x.ImagePositionPatient[2]))\n",
    "        slices = get_pixels_hu(slices)\n",
    "\n",
    "        new_slices = []\n",
    "        slices = [normalize2(get_segmented_lungs(cv2.resize(np.array(each_slice), (size, size)))) for each_slice in slices]\n",
    "\n",
    "        chunk_sizes = math.floor(len(slices) / noslices)\n",
    "        for slice_chunk in chunks(slices, chunk_sizes):\n",
    "            slice_chunk = list(map(mean, zip(*slice_chunk)))\n",
    "            new_slices.append(slice_chunk)\n",
    "        if not new_slices:\n",
    "            print(\"Could not create test set\")\n",
    "        else:\n",
    "            var.append(np.array(new_slices))"
   ]
  },
  {
   "cell_type": "code",
   "execution_count": null,
   "metadata": {},
   "outputs": [],
   "source": [
    "NoSlices=25\n",
    "#dataDirectory = r\"/home/ubuntu/ctdata/3/\"\n",
    "#lungPatients = os.listdir(dataDirectory)\n",
    "for i in range(4):\n",
    "    if i ==0:\n",
    "        var = ct0\n",
    "        dataDirectory=r\"/mnt/tempvol/home/ubuntu/Desktop/Ctdata/0/\"\n",
    "        lungPatients = eben0\n",
    "    if i ==1:\n",
    "        var = ct1\n",
    "        dataDirectory=r\"/mnt/tempvol/home/ubuntu/Desktop/Ctdata/1/\"\n",
    "        lungPatients = eben1\n",
    "    if i ==2:\n",
    "        var = ct2\n",
    "        dataDirectory=r\"/mnt/tempvol/home/ubuntu/Desktop/Ctdata/2/\"\n",
    "        lungPatients = eben2\n",
    "    if i ==3:\n",
    "        var = ct3\n",
    "        dataDirectory=r\"/mnt/tempvol/home/ubuntu/Desktop/Ctdata/3/\"\n",
    "        lungPatients = eben3\n",
    "    print(i)\n",
    "    for  patient in lungPatients:\n",
    "        unlabeledProcessing(patient, size=144, noslices=25)"
   ]
  },
  {
   "cell_type": "code",
   "execution_count": null,
   "metadata": {},
   "outputs": [],
   "source": []
  },
  {
   "cell_type": "code",
   "execution_count": null,
   "metadata": {},
   "outputs": [],
   "source": [
    "dataDirectory=r\"/mnt/tempvol/home/ubuntu/ctdata/0/\"\n",
    "lungPatients = eben0\n",
    "for  patient in lungPatients:\n",
    "        unlabeledProcessing(patient, size=180, noslices=25)"
   ]
  },
  {
   "cell_type": "code",
   "execution_count": null,
   "metadata": {},
   "outputs": [],
   "source": [
    "ct0 = np.array(ct0)\n",
    "ct1 = np.array(ct1)\n",
    "ct2 = np.array(ct2)\n",
    "ct3 = np.array(ct3)"
   ]
  },
  {
   "cell_type": "code",
   "execution_count": null,
   "metadata": {},
   "outputs": [],
   "source": [
    "a[0:5]"
   ]
  },
  {
   "cell_type": "code",
   "execution_count": null,
   "metadata": {},
   "outputs": [],
   "source": [
    "ct0.shape"
   ]
  },
  {
   "cell_type": "code",
   "execution_count": null,
   "metadata": {},
   "outputs": [],
   "source": [
    "ct0[0].shape"
   ]
  },
  {
   "cell_type": "code",
   "execution_count": null,
   "metadata": {},
   "outputs": [],
   "source": [
    "plt.imshow(ct1[4][18],cmap=\"gray\")"
   ]
  },
  {
   "cell_type": "code",
   "execution_count": null,
   "metadata": {},
   "outputs": [],
   "source": [
    "#np.save('CTSEG192-40.npy',data)\n",
    "np.save('ct0.npy',ct0)\n",
    "np.save('ct1.npy',ct1)\n",
    "np.save('ct2.npy',ct2)\n",
    "np.save('ct3.npy',ct3)\n"
   ]
  },
  {
   "cell_type": "code",
   "execution_count": 3,
   "metadata": {},
   "outputs": [],
   "source": [
    "ct0 = np.load(\"ct0.npy\",allow_pickle=True)\n",
    "ct1 = np.load(\"ct1.npy\",allow_pickle=True)\n",
    "ct2 = np.load(\"ct2.npy\",allow_pickle=True)\n",
    "ct3 = np.load(\"ct3.npy\",allow_pickle=True)"
   ]
  },
  {
   "cell_type": "code",
   "execution_count": null,
   "metadata": {},
   "outputs": [],
   "source": [
    "cd /home/ubuntu/Notebooks"
   ]
  },
  {
   "cell_type": "code",
   "execution_count": null,
   "metadata": {},
   "outputs": [],
   "source": [
    "data = np.load(\"CTSEG192-40.npy\",allow_pickle=True)\n",
    "#data = np.load(\"CTSEG180-25.npy\",allow_pickle=True)\n"
   ]
  },
  {
   "cell_type": "code",
   "execution_count": null,
   "metadata": {},
   "outputs": [],
   "source": [
    "X_test=np.load(\"test.npy\",allow_pickle=True)"
   ]
  },
  {
   "cell_type": "code",
   "execution_count": 4,
   "metadata": {},
   "outputs": [],
   "source": [
    "y_ml=[]"
   ]
  },
  {
   "cell_type": "code",
   "execution_count": null,
   "metadata": {},
   "outputs": [],
   "source": [
    "ct3.shape[0]"
   ]
  },
  {
   "cell_type": "code",
   "execution_count": 5,
   "metadata": {},
   "outputs": [],
   "source": [
    "for i in range(ct0.shape[0]):\n",
    "    y_ml.append(0)\n",
    "\n",
    "for i in range(ct1.shape[0]):\n",
    "    y_ml.append(1)\n",
    "\n",
    "for i in range(ct2.shape[0]):\n",
    "    y_ml.append(1)\n",
    "\n",
    "for i in range(ct3.shape[0]):\n",
    "    y_ml.append(1)"
   ]
  },
  {
   "cell_type": "code",
   "execution_count": 6,
   "metadata": {},
   "outputs": [
    {
     "name": "stderr",
     "output_type": "stream",
     "text": [
      "Using TensorFlow backend.\n"
     ]
    },
    {
     "name": "stdout",
     "output_type": "stream",
     "text": [
      "WARNING:tensorflow:From /home/ubuntu/anaconda3/envs/tensorflow_p36/lib/python3.6/site-packages/tensorflow_core/__init__.py:1473: The name tf.estimator.inputs is deprecated. Please use tf.compat.v1.estimator.inputs instead.\n",
      "\n"
     ]
    }
   ],
   "source": [
    "from keras.utils.np_utils import to_categorical\n",
    "y_ml= to_categorical(y_ml)"
   ]
  },
  {
   "cell_type": "code",
   "execution_count": null,
   "metadata": {},
   "outputs": [],
   "source": [
    "y= to_categorical(y)"
   ]
  },
  {
   "cell_type": "code",
   "execution_count": null,
   "metadata": {},
   "outputs": [],
   "source": [
    "ct0=data[:122]#122\n",
    "ct1=data[122:211]\n",
    "ct2=data[211:277]\n",
    "ct3=data[277:295]"
   ]
  },
  {
   "cell_type": "code",
   "execution_count": null,
   "metadata": {},
   "outputs": [],
   "source": [
    "from albumentations import (\n",
    "    Compose, HorizontalFlip, CLAHE, HueSaturationValue,\n",
    "    RandomBrightness, RandomContrast, RandomGamma,\n",
    "    ToFloat, ShiftScaleRotate)"
   ]
  },
  {
   "cell_type": "code",
   "execution_count": null,
   "metadata": {},
   "outputs": [],
   "source": [
    "\n",
    "\n",
    "zenci = Compose([ShiftScaleRotate(rotate_limit=17,scale_limit=0.07,p=0.85,shift_limit=0.0500),\n",
    "    HorizontalFlip(p=0.85)],additional_targets={'image00': 'image', 'image01': 'image',\"image02\":\"image\",\"image03\":\"image\",\"image04\":\"image\",\"image05\":\"image\",\"image06\":\"image\",\"image07\":\"image\",\"image08\":\"image\",\"image9\":\"image\",\"image10\":\"image\",\"image11\":\"image\",\"image12\":\"image\",\"image13\":\"image\",\"image14\":\"image\",\"image15\":\"image\",\"image16\":\"image\",\"image17\":\"image\",\"image18\":\"image\",\"image19\":\"image\",\"image20\":\"image\",\"image21\":\"image\",\"image22\":\"image\",\"image23\":\"image\"})"
   ]
  },
  {
   "cell_type": "code",
   "execution_count": null,
   "metadata": {},
   "outputs": [],
   "source": [
    "plt.imshow(ct3[1][20],cmap=\"gray\")"
   ]
  },
  {
   "cell_type": "code",
   "execution_count": null,
   "metadata": {},
   "outputs": [],
   "source": [
    "plt.imshow(z1[1][20],cmap=\"gray\")"
   ]
  },
  {
   "cell_type": "code",
   "execution_count": null,
   "metadata": {},
   "outputs": [],
   "source": [
    "z1=[]\n",
    "for j in range(len(ct1)):\n",
    "    for i in range(25):\n",
    "            if i==0:\n",
    "                globals()[\"image\"] = ct3[j][i]\n",
    "            if i>9:\n",
    "                globals()[\"image\" + str(i-1)] = ct3[j][i]\n",
    "            else:\n",
    "                globals()[\"image0\" + str(i-1)] = ct3[j][i]\n",
    "                \n",
    "    transformed = zenci(image=image, image00=image00, image01=image01,image02=image02,image03=image03,image04=image04,image05=image05,image06=image06,image07=image07,image08=image08,image9=image9,image10=image10,image11=image11,image12=image12,image13=image13,image14=image14,image15=image15,image16=image16,image17=image17,image18=image18,image19=image19,image20=image20,image21=image21,image22=image22,image23=image23)\n",
    "    z1.append(list(transformed.values()))\n",
    "z1 = np.array(z1)"
   ]
  },
  {
   "cell_type": "code",
   "execution_count": null,
   "metadata": {},
   "outputs": [],
   "source": [
    "ct1 = np.concatenate([ct1,z1])"
   ]
  },
  {
   "cell_type": "code",
   "execution_count": null,
   "metadata": {},
   "outputs": [],
   "source": [
    "ct2.shape"
   ]
  },
  {
   "cell_type": "code",
   "execution_count": null,
   "metadata": {},
   "outputs": [],
   "source": [
    "plt.imshow(ct0[127][19],cmap=\"gray\")"
   ]
  },
  {
   "cell_type": "code",
   "execution_count": null,
   "metadata": {},
   "outputs": [],
   "source": [
    "plt.imshow(ct2[110][10],cmap=\"gray\")"
   ]
  },
  {
   "cell_type": "code",
   "execution_count": null,
   "metadata": {},
   "outputs": [],
   "source": [
    "ct11= np.concatenate([ct1,ct2,ct3])"
   ]
  },
  {
   "cell_type": "code",
   "execution_count": null,
   "metadata": {},
   "outputs": [],
   "source": [
    "ct11= np.concatenate([ct1[:100],ct2[:110],ct3[:40]])"
   ]
  },
  {
   "cell_type": "code",
   "execution_count": null,
   "metadata": {},
   "outputs": [],
   "source": [
    "X = np.concatenate([ct0,ct11])"
   ]
  },
  {
   "cell_type": "code",
   "execution_count": 7,
   "metadata": {},
   "outputs": [],
   "source": [
    "X= np.concatenate([ct0,ct1,ct2,ct3])"
   ]
  },
  {
   "cell_type": "code",
   "execution_count": 8,
   "metadata": {},
   "outputs": [
    {
     "data": {
      "text/plain": [
       "(405, 40, 144, 144)"
      ]
     },
     "execution_count": 8,
     "metadata": {},
     "output_type": "execute_result"
    }
   ],
   "source": [
    "X.shape"
   ]
  },
  {
   "cell_type": "code",
   "execution_count": 9,
   "metadata": {},
   "outputs": [],
   "source": [
    "from sklearn.model_selection import train_test_split\n",
    "X_train, X_test, y_train, y_test = train_test_split(X, y_ml, test_size=0.2, random_state=42)"
   ]
  },
  {
   "cell_type": "code",
   "execution_count": null,
   "metadata": {},
   "outputs": [],
   "source": [
    "X_train= X_train.reshape(X_train.shape[0], 25,144,144,1) #reshaping\n",
    "X_test = X_test.reshape(X_test.shape[0], 25,144,144,1) # reshaping also for adding color dimension 1 for grayscale"
   ]
  },
  {
   "cell_type": "code",
   "execution_count": 10,
   "metadata": {},
   "outputs": [],
   "source": [
    "X_train= X_train.reshape(X_train.shape[0], 40,144,144,1) \n",
    "X_test = X_test.reshape(X_test.shape[0], 40,144,144,1) "
   ]
  },
  {
   "cell_type": "code",
   "execution_count": 11,
   "metadata": {},
   "outputs": [],
   "source": [
    "from keras.layers import Conv3D, MaxPool3D, Flatten, Dense\n",
    "from keras.layers import Dropout, Input, BatchNormalization,Activation\n",
    "from sklearn.metrics import confusion_matrix, accuracy_score\n",
    "from keras.losses import categorical_crossentropy\n",
    "from keras.optimizers import Adam\n",
    "from keras.models import Model,Sequential"
   ]
  },
  {
   "cell_type": "code",
   "execution_count": 12,
   "metadata": {},
   "outputs": [
    {
     "name": "stdout",
     "output_type": "stream",
     "text": [
      "WARNING:tensorflow:From /home/ubuntu/anaconda3/envs/tensorflow_p36/lib/python3.6/site-packages/keras/backend/tensorflow_backend.py:74: The name tf.get_default_graph is deprecated. Please use tf.compat.v1.get_default_graph instead.\n",
      "\n",
      "WARNING:tensorflow:From /home/ubuntu/anaconda3/envs/tensorflow_p36/lib/python3.6/site-packages/keras/backend/tensorflow_backend.py:517: The name tf.placeholder is deprecated. Please use tf.compat.v1.placeholder instead.\n",
      "\n",
      "WARNING:tensorflow:From /home/ubuntu/anaconda3/envs/tensorflow_p36/lib/python3.6/site-packages/keras/backend/tensorflow_backend.py:4138: The name tf.random_uniform is deprecated. Please use tf.random.uniform instead.\n",
      "\n",
      "WARNING:tensorflow:From /home/ubuntu/anaconda3/envs/tensorflow_p36/lib/python3.6/site-packages/keras/backend/tensorflow_backend.py:133: The name tf.placeholder_with_default is deprecated. Please use tf.compat.v1.placeholder_with_default instead.\n",
      "\n",
      "WARNING:tensorflow:From /home/ubuntu/anaconda3/envs/tensorflow_p36/lib/python3.6/site-packages/keras/backend/tensorflow_backend.py:3445: calling dropout (from tensorflow.python.ops.nn_ops) with keep_prob is deprecated and will be removed in a future version.\n",
      "Instructions for updating:\n",
      "Please use `rate` instead of `keep_prob`. Rate should be set to `rate = 1 - keep_prob`.\n"
     ]
    }
   ],
   "source": [
    "model = Sequential()\n",
    "model.add(Conv3D(64, kernel_size=(3, 3, 3), input_shape=(40,144,144,1),activation=\"relu\"))\n",
    "model.add(MaxPool3D(pool_size=(2, 2, 2),strides=(2,2,2),padding='same'))\n",
    "model.add(Conv3D(filters=128, kernel_size=(3, 3, 3), activation='relu'))\n",
    "model.add(Dropout(0.3))\n",
    "model.add(Conv3D(filters=128, kernel_size=(3, 3, 3), activation='relu'))\n",
    "model.add(MaxPool3D(pool_size=(2, 2, 2)))\n",
    "model.add(Flatten())\n",
    "model.add(Dense(units=256, activation='relu'))\n",
    "model.add(Dropout(0.5))\n",
    "model.add(Dense(units=2, activation='softmax'))"
   ]
  },
  {
   "cell_type": "code",
   "execution_count": null,
   "metadata": {
    "scrolled": true
   },
   "outputs": [],
   "source": [
    "model.summary()"
   ]
  },
  {
   "cell_type": "code",
   "execution_count": 13,
   "metadata": {
    "scrolled": true
   },
   "outputs": [
    {
     "name": "stdout",
     "output_type": "stream",
     "text": [
      "WARNING:tensorflow:From /home/ubuntu/anaconda3/envs/tensorflow_p36/lib/python3.6/site-packages/keras/optimizers.py:790: The name tf.train.Optimizer is deprecated. Please use tf.compat.v1.train.Optimizer instead.\n",
      "\n",
      "WARNING:tensorflow:From /home/ubuntu/anaconda3/envs/tensorflow_p36/lib/python3.6/site-packages/keras/backend/tensorflow_backend.py:3295: The name tf.log is deprecated. Please use tf.math.log instead.\n",
      "\n",
      "WARNING:tensorflow:From /home/ubuntu/anaconda3/envs/tensorflow_p36/lib/python3.6/site-packages/tensorflow_core/python/ops/math_grad.py:1424: where (from tensorflow.python.ops.array_ops) is deprecated and will be removed in a future version.\n",
      "Instructions for updating:\n",
      "Use tf.where in 2.0, which has the same broadcast rule as np.where\n",
      "WARNING:tensorflow:From /home/ubuntu/anaconda3/envs/tensorflow_p36/lib/python3.6/site-packages/keras/backend/tensorflow_backend.py:986: The name tf.assign_add is deprecated. Please use tf.compat.v1.assign_add instead.\n",
      "\n",
      "WARNING:tensorflow:From /home/ubuntu/anaconda3/envs/tensorflow_p36/lib/python3.6/site-packages/keras/backend/tensorflow_backend.py:973: The name tf.assign is deprecated. Please use tf.compat.v1.assign instead.\n",
      "\n",
      "WARNING:tensorflow:From /home/ubuntu/anaconda3/envs/tensorflow_p36/lib/python3.6/site-packages/keras/backend/tensorflow_backend.py:2741: The name tf.Session is deprecated. Please use tf.compat.v1.Session instead.\n",
      "\n",
      "Epoch 1/1\n",
      "WARNING:tensorflow:From /home/ubuntu/anaconda3/envs/tensorflow_p36/lib/python3.6/site-packages/keras/backend/tensorflow_backend.py:174: The name tf.get_default_session is deprecated. Please use tf.compat.v1.get_default_session instead.\n",
      "\n",
      "WARNING:tensorflow:From /home/ubuntu/anaconda3/envs/tensorflow_p36/lib/python3.6/site-packages/keras/backend/tensorflow_backend.py:181: The name tf.ConfigProto is deprecated. Please use tf.compat.v1.ConfigProto instead.\n",
      "\n",
      "WARNING:tensorflow:From /home/ubuntu/anaconda3/envs/tensorflow_p36/lib/python3.6/site-packages/keras/backend/tensorflow_backend.py:190: The name tf.global_variables is deprecated. Please use tf.compat.v1.global_variables instead.\n",
      "\n",
      "WARNING:tensorflow:From /home/ubuntu/anaconda3/envs/tensorflow_p36/lib/python3.6/site-packages/keras/backend/tensorflow_backend.py:199: The name tf.is_variable_initialized is deprecated. Please use tf.compat.v1.is_variable_initialized instead.\n",
      "\n",
      "WARNING:tensorflow:From /home/ubuntu/anaconda3/envs/tensorflow_p36/lib/python3.6/site-packages/keras/backend/tensorflow_backend.py:206: The name tf.variables_initializer is deprecated. Please use tf.compat.v1.variables_initializer instead.\n",
      "\n",
      "324/324 [==============================] - 64s 199ms/step - loss: 0.8893 - acc: 0.5216\n"
     ]
    },
    {
     "data": {
      "text/plain": [
       "<keras.callbacks.History at 0x7fce62351860>"
      ]
     },
     "execution_count": 13,
     "metadata": {},
     "output_type": "execute_result"
    }
   ],
   "source": [
    "model.compile(loss='categorical_crossentropy', optimizer=Adam(lr=.00001), metrics=['acc'])\n",
    "model.fit(X_train,y_train, batch_size=4,epochs=1)"
   ]
  },
  {
   "cell_type": "code",
   "execution_count": null,
   "metadata": {},
   "outputs": [],
   "source": [
    "model.save('covidctMLBig_model.h5',include_optimizer=False)"
   ]
  },
  {
   "cell_type": "code",
   "execution_count": null,
   "metadata": {},
   "outputs": [],
   "source": [
    "from keras.models import load_model\n",
    "model = load_model('covidctMLBig_model.h5')"
   ]
  },
  {
   "cell_type": "code",
   "execution_count": null,
   "metadata": {
    "scrolled": true
   },
   "outputs": [],
   "source": [
    "model.compile(loss='binary_crossentropy', optimizer=Adam(lr=.0001), metrics=['acc'])\n",
    "model.fit(X_train,y_train, batch_size=8,epochs=145)"
   ]
  },
  {
   "cell_type": "code",
   "execution_count": null,
   "metadata": {},
   "outputs": [],
   "source": [
    "X_test.shape"
   ]
  },
  {
   "cell_type": "code",
   "execution_count": 47,
   "metadata": {},
   "outputs": [
    {
     "data": {
      "image/png": "[encoded data removed]",
      "text/plain": [
       "<Figure size 432x288 with 2 Axes>"
      ]
     },
     "metadata": {
      "needs_background": "light"
     },
     "output_type": "display_data"
    }
   ],
   "source": [
    "heatmap = [[22,2],\n",
    "          [0,14]]\n",
    "\n",
    "sn.heatmap(heatmap, annot=True)\n",
    "\n",
    "\n",
    "plt.ylabel('Actual', fontsize = 15) # x-axis label with fontsize 15\n",
    "plt.xlabel('Predicted', fontsize = 15) # y-axis label with fontsize 1\n",
    "plt.show()"
   ]
  },
  {
   "cell_type": "code",
   "execution_count": 21,
   "metadata": {},
   "outputs": [
    {
     "data": {
      "text/plain": [
       "array([0, 0, 1, 0, 0, 0, 0, 1, 1, 1, 1, 0, 1, 1, 0, 1, 0, 1, 0, 0, 0, 1,\n",
       "       1, 1, 1, 1, 0, 0, 0, 0, 0, 0, 0, 0, 1, 1, 0, 1, 0, 1, 1, 1, 0, 0,\n",
       "       0, 1, 0, 1, 0, 0, 0, 0, 0, 0, 1, 1, 0, 0, 0, 1, 0, 0, 0, 0, 1, 0,\n",
       "       1, 0, 0, 1, 1, 1, 0, 0, 0, 0, 0, 0, 1, 1, 1])"
      ]
     },
     "execution_count": 21,
     "metadata": {},
     "output_type": "execute_result"
    }
   ],
   "source": [
    "y_test.argmax(axis=1)"
   ]
  },
  {
   "cell_type": "code",
   "execution_count": 43,
   "metadata": {},
   "outputs": [
    {
     "data": {
      "text/plain": [
       "<matplotlib.axes._subplots.AxesSubplot at 0x7fc91cb9d400>"
      ]
     },
     "execution_count": 43,
     "metadata": {},
     "output_type": "execute_result"
    },
    {
     "data": {
      "image/png": "[encoded data removed]",
      "text/plain": [
       "<Figure size 432x288 with 2 Axes>"
      ]
     },
     "metadata": {
      "needs_background": "light"
     },
     "output_type": "display_data"
    }
   ],
   "source": [
    "import pandas as pd\n",
    "import seaborn as sn\n",
    "\n",
    "preds = model.predict(X_test,batch_size=10)\n",
    "confusion_matrix = pd.crosstab(y_test.argmax(axis=1),preds.argmax(axis=1), rownames=['Actual'], colnames=['Predicted'])\n",
    "sn.heatmap(heatmap, annot=True)"
   ]
  },
  {
   "cell_type": "code",
   "execution_count": null,
   "metadata": {},
   "outputs": [],
   "source": [
    "len(X_test)"
   ]
  },
  {
   "cell_type": "code",
   "execution_count": null,
   "metadata": {},
   "outputs": [],
   "source": [
    "\n",
    "matrix = confusion_matrix(y_test.argmax(axis=1),preds.argmax(axis=1))"
   ]
  },
  {
   "cell_type": "code",
   "execution_count": null,
   "metadata": {},
   "outputs": [],
   "source": []
  },
  {
   "cell_type": "code",
   "execution_count": null,
   "metadata": {
    "scrolled": true
   },
   "outputs": [],
   "source": [
    "import os\n",
    "dataDirectory = r\"/mnt/tempvol/home/ubuntu/Desktop/Ctdata/2/nisanpat005/\"\n",
    "lungPatients = os.listdir(dataDirectory)\n",
    "lungPatients[28]"
   ]
  },
  {
   "cell_type": "code",
   "execution_count": null,
   "metadata": {},
   "outputs": [],
   "source": [
    "predzz=[]\n",
    "ct1t = ct2.reshape(ct2.shape[0],40,144,144,1)\n",
    "for i in ct1t:\n",
    "    predzz.append(model.predict(np.expand_dims(i, axis=0)).argmax(axis=1))"
   ]
  },
  {
   "cell_type": "code",
   "execution_count": null,
   "metadata": {},
   "outputs": [],
   "source": [
    "indices = [i for i, x in enumerate(predzz) if x == [[0]]]\n",
    "indices"
   ]
  },
  {
   "cell_type": "code",
   "execution_count": null,
   "metadata": {},
   "outputs": [],
   "source": [
    "plt.imshow(X_test[84][20],cmap=\"gray\")"
   ]
  },
  {
   "cell_type": "code",
   "execution_count": null,
   "metadata": {},
   "outputs": [],
   "source": [
    "plt.imshow(X_test[84][20],cmap=\"gray\")"
   ]
  },
  {
   "cell_type": "code",
   "execution_count": null,
   "metadata": {},
   "outputs": [],
   "source": [
    "b = []\n",
    "for i in range(21):\n",
    "    test1 =np.expand_dims(testData[i], axis=0)\n",
    "    pred = model.predict(test1)\n",
    "    indices = np.where(pred[0] == pred[0].max())\n",
    "    if indices[0][0]==0:\n",
    "        b.append(0)\n",
    "    if indices[0][0]==1:\n",
    "        b.append(1)\n",
    "    "
   ]
  },
  {
   "cell_type": "code",
   "execution_count": null,
   "metadata": {},
   "outputs": [],
   "source": [
    "pred = model.predict(test1)\n",
    "indices = np.where(pred[0] == pred[0].max())\n",
    "if indices[0][0]==0:\n",
    "    print(\"Negative\")\n",
    "if indices[0][0]==1:\n",
    "    print(\"Positive\")\n",
    "pred"
   ]
  },
  {
   "cell_type": "code",
   "execution_count": null,
   "metadata": {},
   "outputs": [],
   "source": [
    "import scipy\n",
    "def resample(image, scan, new_spacing=[1,1,1]):\n",
    "    # Determine current pixel spacing\n",
    "    spacing = np.array([scan[0].SliceThickness] + list(scan[0].PixelSpacing), dtype=np.float32)\n",
    "\n",
    "    resize_factor = spacing / new_spacing\n",
    "    new_real_shape = image.shape * resize_factor\n",
    "    new_shape = np.round(new_real_shape)\n",
    "    real_resize_factor = new_shape / image.shape\n",
    "    new_spacing = spacing / real_resize_factor\n",
    "    \n",
    "    image = scipy.ndimage.interpolation.zoom(image, real_resize_factor, mode='nearest')\n",
    "    \n",
    "    return image, new_spacing"
   ]
  },
  {
   "cell_type": "code",
   "execution_count": null,
   "metadata": {},
   "outputs": [],
   "source": [
    "def load_scan(path):\n",
    "    slices = [pydicom.read_file(path + '/' + s) for s in os.listdir(path)]\n",
    "    slices.sort(key = lambda x: float(x.ImagePositionPatient[2]))\n",
    "    try:\n",
    "        slice_thickness = np.abs(slices[0].ImagePositionPatient[2] - slices[1].ImagePositionPatient[2])\n",
    "    except:\n",
    "        slice_thickness = np.abs(slices[0].SliceLocation - slices[1].SliceLocation)\n",
    "        \n",
    "    for s in slices:\n",
    "        s.SliceThickness = slice_thickness\n",
    "        \n",
    "    return slices\n",
    "\n",
    "def get_pixels_hu(slices):\n",
    "    image = np.stack([s.pixel_array for s in slices])\n",
    "    # Convert to int16 (from sometimes int16), \n",
    "    # should be possible as values should always be low enough (<32k)\n",
    "    image = image.astype(np.int16)\n",
    "\n",
    "    # Set outside-of-scan pixels to 0\n",
    "    # The intercept is usually -1024, so air is approximately 0\n",
    "    image[image == -2000] = 0\n",
    "    \n",
    "    # Convert to Hounsfield units (HU)\n",
    "    for slice_number in range(len(slices)):\n",
    "        \n",
    "        intercept = slices[slice_number].RescaleIntercept\n",
    "        slope = slices[slice_number].RescaleSlope\n",
    "        \n",
    "        if slope != 1:\n",
    "            image[slice_number] = slope * image[slice_number].astype(np.float64)\n",
    "            image[slice_number] = image[slice_number].astype(np.int16)\n",
    "            \n",
    "        image[slice_number] += np.int16(intercept)\n",
    "    \n",
    "    return np.array(image, dtype=np.int16)"
   ]
  },
  {
   "cell_type": "code",
   "execution_count": null,
   "metadata": {},
   "outputs": [],
   "source": [
    "first_patient = load_scan(r\"/mnt/tempvol/home/ubuntu/Desktop/Ctdata/2/nisanpat013/stu01/ser01/\")\n",
    "first_patient_pixels = get_pixels_hu(first_patient)"
   ]
  },
  {
   "cell_type": "code",
   "execution_count": null,
   "metadata": {},
   "outputs": [],
   "source": [
    "pix_resampled= resample(first_patient_pixels, first_patient, [1,1,1])"
   ]
  },
  {
   "cell_type": "code",
   "execution_count": null,
   "metadata": {},
   "outputs": [],
   "source": [
    "pix_resampled = np.array(pix_resampled)"
   ]
  },
  {
   "cell_type": "code",
   "execution_count": null,
   "metadata": {},
   "outputs": [],
   "source": [
    "model.save('covidctML55_model.h5',include_optimizer=False)"
   ]
  },
  {
   "cell_type": "code",
   "execution_count": null,
   "metadata": {},
   "outputs": [],
   "source": [
    "pix_resampled[0].shape"
   ]
  },
  {
   "cell_type": "code",
   "execution_count": null,
   "metadata": {},
   "outputs": [],
   "source": [
    "from keras.layers import Input, Conv2D, BatchNormalization, Dense,Conv3D,Flatten,add\n",
    "from keras.layers import AvgPool2D,AvgPool3D,GlobalAveragePooling2D,GlobalAveragePooling3D, MaxPool2D,MaxPool3D\n",
    "from keras.models import Model\n",
    "from keras.layers import ReLU, concatenate\n",
    "import keras.backend as K\n"
   ]
  },
  {
   "cell_type": "code",
   "execution_count": null,
   "metadata": {},
   "outputs": [],
   "source": [
    "visible = Input(shape=(25,180,180,1))\n",
    "x = Conv3D(64, kernel_size=(5,7,7))(visible)\n",
    "x = BatchNormalization()(x)\n",
    "x = ReLU()(x)\n",
    "x = MaxPool3D()(x)\n",
    "\n",
    "\n",
    "#first resblock\n",
    "shortcut = x\n",
    "shortcut = Conv3D(64, kernel_size=(1,3,3), strides=(1,1,1), padding='same')(shortcut)\n",
    "shortcut = BatchNormalization()(shortcut)\n",
    "shortcut = ReLU()(shortcut)\n",
    "x = add([shortcut, x])\n",
    "\n",
    "x = MaxPool3D()(x)\n",
    "\n",
    "\n",
    "#second resblock\n",
    "shortcut = x\n",
    "shortcut = Conv3D(64, kernel_size=(1,3,3), strides=(1,1,1), padding='same')(shortcut)\n",
    "shortcut = BatchNormalization()(shortcut)\n",
    "shortcut = ReLU()(shortcut)\n",
    "x = add([shortcut, x])\n",
    "x = Dropout(0.5)(x)\n",
    "x = Conv3D(32, kernel_size=(3,3,3),padding=\"same\")(x)\n",
    "x = BatchNormalization()(x)\n",
    "x = ReLU()(x)\n",
    "\n",
    "\n",
    "\n",
    "\n",
    "\n",
    "x = Flatten()(x)\n",
    "\n",
    "output = Dense(2, activation='sigmoid')(x)\n",
    "model = Model(inputs=visible, outputs=output)"
   ]
  },
  {
   "cell_type": "code",
   "execution_count": null,
   "metadata": {},
   "outputs": [],
   "source": [
    "model.summary()"
   ]
  },
  {
   "cell_type": "code",
   "execution_count": null,
   "metadata": {},
   "outputs": [],
   "source": [
    "def densenet(input_shape, n_classes, filters = 32):\n",
    "    \n",
    "    #batch norm + relu + conv\n",
    "    def bn_rl_conv(x,filters,kernel=1,strides=1):\n",
    "        \n",
    "        x = BatchNormalization()(x)\n",
    "        x = ReLU()(x)\n",
    "        x = Conv2D(filters, kernel, strides=strides,padding = 'same')(x)\n",
    "        return x\n",
    "    \n",
    "    def dense_block(x, repetition):\n",
    "        \n",
    "        for _ in range(repetition):\n",
    "            y = bn_rl_conv(x, 4*filters)\n",
    "            y = bn_rl_conv(y, filters, 3)\n",
    "            x = concatenate([y,x])\n",
    "        return x\n",
    "        \n",
    "    def transition_layer(x):\n",
    "        \n",
    "        x = bn_rl_conv(x, K.int_shape(x)[-1] //2 )\n",
    "        x = AvgPool2D(2, strides = 2, padding = 'same')(x)\n",
    "        return x\n",
    "    \n",
    "    input = Input (input_shape)\n",
    "    x = Conv2D(64, 7, strides = 2, padding = 'same')(input)\n",
    "    x = MaxPool2D(3, strides = 2, padding = 'same')(x)\n",
    "    \n",
    "    for repetition in [6,12,16]:\n",
    "        \n",
    "        d = dense_block(x, repetition)\n",
    "        x = transition_layer(d)\n",
    "    x = GlobalAveragePooling2D()(d)\n",
    "    output = Dense(n_classes, activation = 'softmax')(x)\n",
    "    \n",
    "    model = Model(input, output)\n",
    "    return model\n",
    "input_shape = 224, 224, 3\n",
    "n_classes = 3\n",
    "model = densenet(input_shape,n_classes)\n",
    "model.summary()"
   ]
  },
  {
   "cell_type": "code",
   "execution_count": null,
   "metadata": {},
   "outputs": [],
   "source": []
  }
 ],
 "metadata": {
  "kernelspec": {
   "display_name": "Environment (conda_tensorflow_p36)",
   "language": "python",
   "name": "conda_tensorflow_p36"
  },
  "language_info": {
   "codemirror_mode": {
    "name": "ipython",
    "version": 3
   },
   "file_extension": ".py",
   "mimetype": "text/x-python",
   "name": "python",
   "nbconvert_exporter": "python",
   "pygments_lexer": "ipython3",
   "version": "3.6.10"
  }
 },
 "nbformat": 4,
 "nbformat_minor": 2
}
